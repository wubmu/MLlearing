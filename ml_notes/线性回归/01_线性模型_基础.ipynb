{
 "cells": [
  {
   "attachments": {},
   "cell_type": "markdown",
   "metadata": {
    "collapsed": true,
    "pycharm": {
     "name": "#%% md\n"
    }
   },
   "source": [
    "## 模型结构\n",
    "$$\n",
    "\\hat{y} = w_1 x_1 + w_2 x_2+...+b\n",
    "$$\n",
    "把所有的特征收集到一个向量$x\\in R^n$,所有的权重放到一个向量$w \\in R^{n}$ :,\n",
    "\n",
    "$$\n",
    "\\hat{y} = w^T x + b\n",
    "$$\n",
    "$x$表示一个训练样本的所有特征，用矩阵$X \\in R^{m \\times n}$表示n个训练样本 , $Y \\in R^{n \\times 1}$：\n",
    "\n",
    "$$\n",
    "Y = Xw + b\n",
    "$$\n",
    "\n",
    "将$x^*=[x^T,1]^T,x\\in R^n ,w\\in R^{n+1}=[w^T,b]$, "
   ]
  },
  {
   "cell_type": "markdown",
   "metadata": {},
   "source": [
    "### 准备实验数据"
   ]
  },
  {
   "cell_type": "code",
   "execution_count": 198,
   "metadata": {
    "ExecuteTime": {
     "end_time": "2022-02-28T14:17:47.856323Z",
     "start_time": "2022-02-28T14:17:47.842279Z"
    },
    "collapsed": true
   },
   "outputs": [],
   "source": [
    "import numpy as np\n",
    "# to make this notebook's output stable across runs\n",
    "np.random.seed(42)\n",
    "\n",
    "# To plot pretty figures\n",
    "%matplotlib inline\n",
    "import matplotlib as mpl\n",
    "import matplotlib.pyplot as plt\n",
    "mpl.rc('axes', labelsize=14)\n",
    "mpl.rc('xtick', labelsize=12)\n",
    "mpl.rc('ytick', labelsize=12)\n"
   ]
  },
  {
   "cell_type": "code",
   "execution_count": 199,
   "metadata": {
    "ExecuteTime": {
     "end_time": "2022-02-28T14:17:47.872287Z",
     "start_time": "2022-02-28T14:17:47.858291Z"
    }
   },
   "outputs": [
    {
     "data": {
      "text/plain": [
       "((100, 2), (100,))"
      ]
     },
     "execution_count": 199,
     "metadata": {},
     "output_type": "execute_result"
    }
   ],
   "source": [
    "\n",
    "def generate_date(w, num_example):\n",
    "    X=np.linspace(0,1, num_example)\n",
    "    X=np.c_[X,np.ones(num_example)]\n",
    "    #X = 2 * np.random.rand(num_example, len(w)-1)\n",
    "    #X = np.c_[X , np.ones(num_example)]\n",
    "    y = X.dot(w)\n",
    "    y = y + np.random.normal(0,0.5,y.shape)\n",
    "    return X,y\n",
    "true_w = [3,2]\n",
    "true_b = 2\n",
    "X,y = generate_date(true_w,100)\n",
    "X.shape,y.shape"
   ]
  },
  {
   "cell_type": "code",
   "execution_count": 200,
   "metadata": {
    "ExecuteTime": {
     "end_time": "2022-02-28T14:17:47.967313Z",
     "start_time": "2022-02-28T14:17:47.874287Z"
    }
   },
   "outputs": [
    {
     "data": {
      "image/png": "[encoded data removed]",
      "text/plain": [
       "<Figure size 432x288 with 1 Axes>"
      ]
     },
     "metadata": {},
     "output_type": "display_data"
    }
   ],
   "source": [
    "plt.plot(X[:,0:-1], y, \"b.\")\n",
    "plt.xlabel(\"$x_1$\", fontsize=18)\n",
    "plt.ylabel(\"$y$\", rotation=0, fontsize=18)\n",
    "plt.plot(X,3 * X + 2.0,'r')\n",
    "plt.axis([0,1, 0, 6])\n",
    "#save_fig(\"generated_data_plot\")\n",
    "plt.show()"
   ]
  },
  {
   "attachments": {},
   "cell_type": "markdown",
   "metadata": {},
   "source": [
    "\n",
    "\n",
    "### 模型求解\n",
    "利用等式$y = 3x +2$ ，伪造了一部分数据，并给$x$加了噪声数据。线性回归在$x,y$的情况下，求出最优解$w^*$\n",
    "\n",
    "首先我们构造损失函数$L(w)$\n",
    "$$\n",
    "L(w)=\\|\\mathbf{Y} - \\mathbf{X}\\mathbf{w}\\|^2 = \\sum_{i=1}^m(y_i-f(x_i))^2=\\sum_{i=1}^m(y_i-w^Tx_i)^2=(Y-X)^T(Y-X)\n",
    "$$\n",
    "\n",
    "这里$m$表示样本量，本例中$m=100$, $X^*\\in R^{m \\times (n+1)},Y\\in R^{m\\times 1}$, 损失函数$L(w)$的本质是关于$w$的函数，通过求解最小的$L(w)$即可求出最优解$w^*$\n",
    "\n",
    "$$\n",
    "w^*=arg \\min_{w}L(w)\n",
    "$$\n",
    "\n",
    "#### 方法一：直接求封闭式（解析解）\n",
    "\n",
    "$$\n",
    "L(w)=\\sum_{i=1}^m(y_i-f(x_i))^2=\\sum_{i=1}^m(y_i-w^Tx_i)^2=(Y-X w)^T(Y-X w) \\\\\n",
    "= w^T X^T X w - 2w^T X^T Y + Y^T Y\n",
    "$$\n",
    "通过直接求导$\\frac{dL}{dw}=0$，得到$w^*$，梯度推到如下：\n",
    "$$\n",
    "\\frac{dL}{dw} = 2X^TXw - 2X^T Y = 0 \\\\\n",
    "->X^T X w =X^TY \n",
    "$$\n",
    "最终可得：\n",
    "$$\n",
    "w^* = (X^T X)^{-1} X^T Y\n",
    "$$\n",
    "\n",
    "实际情景中数据不一定能满足$X^T X$是满秩(比如$m<n，w$有无穷解)，这里需要伪逆的知识\n",
    "![](https://gitee.com/wubmu/image/raw/master/img/v2-1cea344eb297384e70f407f2ae3a9c7e_720w.jpg)\n",
    "\n",
    "伪逆求解方法：SVD分解，QR分解\n",
    "\n",
    "#### 梯度下降求解\n",
    "但对于数据量很大的情况，求闭式解的方式会让内存很吃力，我们可以通过随机梯度下降法（SGD）对$w$进行更新，首先随机初始化$w$，然后使用如下的迭代公式对$w$进行迭代更新：\n",
    "\n",
    "$$w:=w-\\eta\\frac{dL}{dw}$$"
   ]
  },
  {
   "cell_type": "markdown",
   "metadata": {},
   "source": [
    "### 代码实现\n",
    "\n",
    "#### 闭式求解\n"
   ]
  },
  {
   "cell_type": "code",
   "execution_count": 201,
   "metadata": {
    "ExecuteTime": {
     "end_time": "2022-02-28T14:17:47.983311Z",
     "start_time": "2022-02-28T14:17:47.968307Z"
    }
   },
   "outputs": [
    {
     "data": {
      "text/plain": [
       "array([3.06896634, 1.91359357])"
      ]
     },
     "execution_count": 201,
     "metadata": {},
     "output_type": "execute_result"
    }
   ],
   "source": [
    "w = np.linalg.pinv(X).dot(y)\n",
    "w"
   ]
  },
  {
   "cell_type": "markdown",
   "metadata": {},
   "source": [
    "#### 随机梯度下降求解"
   ]
  },
  {
   "cell_type": "code",
   "execution_count": 202,
   "metadata": {
    "ExecuteTime": {
     "end_time": "2022-02-28T14:17:48.015316Z",
     "start_time": "2022-02-28T14:17:47.985311Z"
    }
   },
   "outputs": [
    {
     "data": {
      "text/plain": [
       "array([3.06896448, 1.91359457])"
      ]
     },
     "execution_count": 202,
     "metadata": {},
     "output_type": "execute_result"
    }
   ],
   "source": [
    "w = np.random.random(size=w.shape)\n",
    "epoches = 1000\n",
    "learning_rate = 0.001\n",
    "losses = []\n",
    "\n",
    "for _ in range(epoches):\n",
    "    dw = 2 * X.T.dot(X.dot(w)-y)\n",
    "    w = w - learning_rate * dw\n",
    "    losses.append((X.dot(w) - y).T.dot(X.dot(w) - y))\n",
    "w"
   ]
  },
  {
   "cell_type": "code",
   "execution_count": 203,
   "metadata": {
    "ExecuteTime": {
     "end_time": "2022-02-28T14:18:14.038072Z",
     "start_time": "2022-02-28T14:18:13.954047Z"
    }
   },
   "outputs": [
    {
     "data": {
      "text/plain": [
       "Text(0, 0.5, 'loss')"
      ]
     },
     "execution_count": 203,
     "metadata": {},
     "output_type": "execute_result"
    },
    {
     "data": {
      "image/png": "[encoded data removed]",
      "text/plain": [
       "<Figure size 432x288 with 1 Axes>"
      ]
     },
     "metadata": {},
     "output_type": "display_data"
    }
   ],
   "source": [
    "#loss变化\n",
    "plt.plot(losses)\n",
    "plt.xlabel('iterations')\n",
    "plt.ylabel('loss')"
   ]
  },
  {
   "cell_type": "markdown",
   "metadata": {},
   "source": [
    "### 封装与测试"
   ]
  },
  {
   "cell_type": "code",
   "execution_count": null,
   "metadata": {
    "collapsed": true
   },
   "outputs": [],
   "source": [
    "class LinearRegression(object):\n",
    "    def __init__"
   ]
  }
 ],
 "metadata": {
  "kernelspec": {
   "display_name": "Python 3",
   "language": "python",
   "name": "python3"
  },
  "language_info": {
   "codemirror_mode": {
    "name": "ipython",
    "version": 3
   },
   "file_extension": ".py",
   "mimetype": "text/x-python",
   "name": "python",
   "nbconvert_exporter": "python",
   "pygments_lexer": "ipython3",
   "version": "3.6.12"
  },
  "toc": {
   "base_numbering": 1,
   "nav_menu": {},
   "number_sections": true,
   "sideBar": true,
   "skip_h1_title": false,
   "title_cell": "Table of Contents",
   "title_sidebar": "Contents",
   "toc_cell": false,
   "toc_position": {},
   "toc_section_display": true,
   "toc_window_display": false
  },
  "varInspector": {
   "cols": {
    "lenName": 16,
    "lenType": 16,
    "lenVar": 40
   },
   "kernels_config": {
    "python": {
     "delete_cmd_postfix": "",
     "delete_cmd_prefix": "del ",
     "library": "var_list.py",
     "varRefreshCmd": "print(var_dic_list())"
    },
    "r": {
     "delete_cmd_postfix": ") ",
     "delete_cmd_prefix": "rm(",
     "library": "var_list.r",
     "varRefreshCmd": "cat(var_dic_list()) "
    }
   },
   "types_to_exclude": [
    "module",
    "function",
    "builtin_function_or_method",
    "instance",
    "_Feature"
   ],
   "window_display": false
  }
 },
 "nbformat": 4,
 "nbformat_minor": 1
}