{
 "cells": [
  {
   "cell_type": "code",
   "execution_count": 1,
   "metadata": {
    "collapsed": true
   },
   "outputs": [
    {
     "data": {
      "text/plain": "           ds         y\n0  2007-12-10  9.590761\n1  2007-12-11  8.519590\n2  2007-12-12  8.183677\n3  2007-12-13  8.072467\n4  2007-12-14  7.893572",
      "text/html": "<div>\n<style scoped>\n    .dataframe tbody tr th:only-of-type {\n        vertical-align: middle;\n    }\n\n    .dataframe tbody tr th {\n        vertical-align: top;\n    }\n\n    .dataframe thead th {\n        text-align: right;\n    }\n</style>\n<table border=\"1\" class=\"dataframe\">\n  <thead>\n    <tr style=\"text-align: right;\">\n      <th></th>\n      <th>ds</th>\n      <th>y</th>\n    </tr>\n  </thead>\n  <tbody>\n    <tr>\n      <th>0</th>\n      <td>2007-12-10</td>\n      <td>9.590761</td>\n    </tr>\n    <tr>\n      <th>1</th>\n      <td>2007-12-11</td>\n      <td>8.519590</td>\n    </tr>\n    <tr>\n      <th>2</th>\n      <td>2007-12-12</td>\n      <td>8.183677</td>\n    </tr>\n    <tr>\n      <th>3</th>\n      <td>2007-12-13</td>\n      <td>8.072467</td>\n    </tr>\n    <tr>\n      <th>4</th>\n      <td>2007-12-14</td>\n      <td>7.893572</td>\n    </tr>\n  </tbody>\n</table>\n</div>"
     },
     "execution_count": 1,
     "metadata": {},
     "output_type": "execute_result"
    }
   ],
   "source": [
    "# Python\n",
    "import pandas as pd\n",
    "from fbprophet import Prophet\n",
    "# 读入数据集\n",
    "df = pd.read_csv('D:\\\\code\\\\pyproject\\\\MLlearing\\\\pytorchDemo\\\\time_sequence_prediction\\\\examples\\\\example_wp_log_peyton_manning.csv')\n",
    "df.head()"
   ]
  },
  {
   "cell_type": "code",
   "execution_count": null,
   "outputs": [
    {
     "name": "stderr",
     "output_type": "stream",
     "text": [
      "INFO:fbprophet:Disabling daily seasonality. Run prophet with daily_seasonality=True to override this.\n"
     ]
    }
   ],
   "source": [
    "# 拟合模型\n",
    "m = Prophet()\n",
    "m.fit(df)"
   ],
   "metadata": {
    "collapsed": false,
    "pycharm": {
     "name": "#%%\n",
     "is_executing": true
    }
   }
  },
  {
   "cell_type": "code",
   "execution_count": null,
   "outputs": [],
   "source": [
    "# 构建待预测日期数据框，periods = 365 代表除历史数据的日期外再往后推 365 天\n",
    "future = m.make_future_dataframe(periods=365)\n",
    "future.tail()"
   ],
   "metadata": {
    "collapsed": false,
    "pycharm": {
     "name": "#%%\n",
     "is_executing": true
    }
   }
  }
 ],
 "metadata": {
  "kernelspec": {
   "display_name": "Python 3",
   "language": "python",
   "name": "python3"
  },
  "language_info": {
   "codemirror_mode": {
    "name": "ipython",
    "version": 2
   },
   "file_extension": ".py",
   "mimetype": "text/x-python",
   "name": "python",
   "nbconvert_exporter": "python",
   "pygments_lexer": "ipython2",
   "version": "2.7.6"
  }
 },
 "nbformat": 4,
 "nbformat_minor": 0
}