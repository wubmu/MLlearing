{
 "cells": [
  {
   "cell_type": "code",
   "execution_count": 8,
   "metadata": {
    "collapsed": true
   },
   "outputs": [],
   "source": [
    "import torch\n",
    "import torch.utils.data as Data"
   ]
  },
  {
   "cell_type": "code",
   "execution_count": 9,
   "outputs": [],
   "source": [
    "BATCH_SIZE = 5\n",
    "\n",
    "x = torch.linspace(1,10,10) # 1-10 10个点\n",
    "y = torch.linspace(10,1,10) # 10-1 10个点\n",
    "\n",
    "torch_dataset = Data.TensorDataset(x, y)\n",
    "loader = Data.DataLoader(\n",
    "    dataset=torch_dataset,      # torch TensorDataset format\n",
    "    batch_size=BATCH_SIZE,      # mini batch size\n",
    "    shuffle=True,               # random shuffle for training\n",
    "    num_workers=2,              # subprocesses for loading data\n",
    ")"
   ],
   "metadata": {
    "collapsed": false,
    "pycharm": {
     "name": "#%%\n"
    }
   }
  },
  {
   "cell_type": "code",
   "execution_count": 10,
   "outputs": [
    {
     "name": "stdout",
     "output_type": "stream",
     "text": [
      "Epoch:  0  | Step:  0  | batch x:  [ 2.  6.  7. 10.  4.] | batch y: [9. 5. 4. 1. 7.]\n",
      "Epoch:  0  | Step:  1  | batch x:  [9. 3. 5. 1. 8.] | batch y: [ 2.  8.  6. 10.  3.]\n",
      "Epoch:  1  | Step:  0  | batch x:  [1. 7. 4. 6. 3.] | batch y: [10.  4.  7.  5.  8.]\n",
      "Epoch:  1  | Step:  1  | batch x:  [ 9.  8.  5.  2. 10.] | batch y: [2. 3. 6. 9. 1.]\n",
      "Epoch:  2  | Step:  0  | batch x:  [2. 8. 5. 3. 4.] | batch y: [9. 3. 6. 8. 7.]\n",
      "Epoch:  2  | Step:  1  | batch x:  [10.  6.  7.  9.  1.] | batch y: [ 1.  5.  4.  2. 10.]\n"
     ]
    }
   ],
   "source": [
    "for epoch in range(3):\n",
    "    for step,(batch_x, batch_y) in enumerate(loader):\n",
    "        #training\n",
    "        print('Epoch: ', epoch,' | Step: ', step,' | batch x: ',batch_x.numpy(),\n",
    "              '| batch y:', batch_y.numpy())"
   ],
   "metadata": {
    "collapsed": false,
    "pycharm": {
     "name": "#%%\n"
    }
   }
  }
 ],
 "metadata": {
  "kernelspec": {
   "display_name": "Python 3",
   "language": "python",
   "name": "python3"
  },
  "language_info": {
   "codemirror_mode": {
    "name": "ipython",
    "version": 2
   },
   "file_extension": ".py",
   "mimetype": "text/x-python",
   "name": "python",
   "nbconvert_exporter": "python",
   "pygments_lexer": "ipython2",
   "version": "2.7.6"
  }
 },
 "nbformat": 4,
 "nbformat_minor": 0
}